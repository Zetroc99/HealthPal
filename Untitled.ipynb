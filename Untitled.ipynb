{
 "cells": [
  {
   "cell_type": "code",
   "execution_count": 1,
   "id": "4e092967",
   "metadata": {},
   "outputs": [],
   "source": [
    "import mods\n",
    "import datetime as dt\n",
    "import pandas as pd"
   ]
  },
  {
   "cell_type": "code",
   "execution_count": 2,
   "id": "ac8f4b27",
   "metadata": {},
   "outputs": [],
   "source": [
    "records = mods.load.create_df('Record')\n",
    "workouts = mods.load.create_df('Workout')\n",
    "\n",
    "records = mods.load.clean_record_df(records)\n",
    "workouts = mods.load.clean_workout_df(workouts)"
   ]
  },
  {
   "cell_type": "code",
   "execution_count": 3,
   "id": "82c78d2f",
   "metadata": {},
   "outputs": [
    {
     "data": {
      "text/plain": [
       "array(['Height', 'BodyMass', 'HeartRate', 'RespiratoryRate', 'StepCount',\n",
       "       'DistanceWalkingRunning', 'BasalEnergyBurned',\n",
       "       'ActiveEnergyBurned', 'FlightsClimbed', 'AppleExerciseTime',\n",
       "       'DistanceSwimming', 'SwimmingStrokeCount', 'RestingHeartRate',\n",
       "       'VO2Max', 'WalkingHeartRateAverage', 'HeadphoneAudioExposure',\n",
       "       'WalkingDoubleSupportPercentage', 'SixMinuteWalkTestDistance',\n",
       "       'AppleStandTime', 'WalkingSpeed', 'WalkingStepLength',\n",
       "       'WalkingAsymmetryPercentage', 'SleepDurationGoal',\n",
       "       'AppleWalkingSteadiness', 'SleepAnalysis', 'AppleStandHour',\n",
       "       'MindfulSession', 'HeartRateVariabilitySDNN'], dtype=object)"
      ]
     },
     "execution_count": 3,
     "metadata": {},
     "output_type": "execute_result"
    }
   ],
   "source": [
    "records[records['type'] == 'BasalEnergyBurned']\n",
    "records.type.unique()"
   ]
  },
  {
   "cell_type": "code",
   "execution_count": 4,
   "id": "078c804c",
   "metadata": {},
   "outputs": [
    {
     "data": {
      "text/html": [
       "<div>\n",
       "<style scoped>\n",
       "    .dataframe tbody tr th:only-of-type {\n",
       "        vertical-align: middle;\n",
       "    }\n",
       "\n",
       "    .dataframe tbody tr th {\n",
       "        vertical-align: top;\n",
       "    }\n",
       "\n",
       "    .dataframe thead th {\n",
       "        text-align: right;\n",
       "    }\n",
       "</style>\n",
       "<table border=\"1\" class=\"dataframe\">\n",
       "  <thead>\n",
       "    <tr style=\"text-align: right;\">\n",
       "      <th></th>\n",
       "      <th>type</th>\n",
       "      <th>duration</th>\n",
       "      <th>durationUnit</th>\n",
       "      <th>totalDistance</th>\n",
       "      <th>totalDistanceUnit</th>\n",
       "      <th>totalEnergyBurned</th>\n",
       "      <th>totalEnergyBurnedUnit</th>\n",
       "      <th>sourceName</th>\n",
       "      <th>sourceVersion</th>\n",
       "      <th>device</th>\n",
       "      <th>creationDate</th>\n",
       "      <th>startDate</th>\n",
       "      <th>endDate</th>\n",
       "    </tr>\n",
       "  </thead>\n",
       "  <tbody>\n",
       "    <tr>\n",
       "      <th>0</th>\n",
       "      <td>TraditionalStrengthTraining</td>\n",
       "      <td>568.401575</td>\n",
       "      <td>min</td>\n",
       "      <td>0.0</td>\n",
       "      <td>mi</td>\n",
       "      <td>1966.049863</td>\n",
       "      <td>Cal</td>\n",
       "      <td>Apple Watch</td>\n",
       "      <td>6.1.1</td>\n",
       "      <td>&lt;&lt;HKDevice: 0x280264870&gt;, name:Apple Watch, ma...</td>\n",
       "      <td>2020-01-18 09:06:58-07:00</td>\n",
       "      <td>2020-01-17 23:37:55-07:00</td>\n",
       "      <td>2020-01-18 09:06:19-07:00</td>\n",
       "    </tr>\n",
       "    <tr>\n",
       "      <th>1</th>\n",
       "      <td>TraditionalStrengthTraining</td>\n",
       "      <td>28.767217</td>\n",
       "      <td>min</td>\n",
       "      <td>0.0</td>\n",
       "      <td>mi</td>\n",
       "      <td>161.977679</td>\n",
       "      <td>Cal</td>\n",
       "      <td>Apple Watch</td>\n",
       "      <td>6.1.1</td>\n",
       "      <td>&lt;&lt;HKDevice: 0x280264870&gt;, name:Apple Watch, ma...</td>\n",
       "      <td>2020-01-19 11:18:01-07:00</td>\n",
       "      <td>2020-01-19 10:49:11-07:00</td>\n",
       "      <td>2020-01-19 11:17:58-07:00</td>\n",
       "    </tr>\n",
       "  </tbody>\n",
       "</table>\n",
       "</div>"
      ],
      "text/plain": [
       "                          type    duration durationUnit  totalDistance  \\\n",
       "0  TraditionalStrengthTraining  568.401575          min            0.0   \n",
       "1  TraditionalStrengthTraining   28.767217          min            0.0   \n",
       "\n",
       "  totalDistanceUnit  totalEnergyBurned totalEnergyBurnedUnit   sourceName  \\\n",
       "0                mi        1966.049863                   Cal  Apple Watch   \n",
       "1                mi         161.977679                   Cal  Apple Watch   \n",
       "\n",
       "  sourceVersion                                             device  \\\n",
       "0         6.1.1  <<HKDevice: 0x280264870>, name:Apple Watch, ma...   \n",
       "1         6.1.1  <<HKDevice: 0x280264870>, name:Apple Watch, ma...   \n",
       "\n",
       "               creationDate                 startDate  \\\n",
       "0 2020-01-18 09:06:58-07:00 2020-01-17 23:37:55-07:00   \n",
       "1 2020-01-19 11:18:01-07:00 2020-01-19 10:49:11-07:00   \n",
       "\n",
       "                    endDate  \n",
       "0 2020-01-18 09:06:19-07:00  \n",
       "1 2020-01-19 11:17:58-07:00  "
      ]
     },
     "execution_count": 4,
     "metadata": {},
     "output_type": "execute_result"
    }
   ],
   "source": [
    "workouts.head(2)"
   ]
  },
  {
   "cell_type": "code",
   "execution_count": 5,
   "id": "06a3cef5",
   "metadata": {
    "scrolled": false
   },
   "outputs": [
    {
     "data": {
      "text/html": [
       "<div>\n",
       "<style scoped>\n",
       "    .dataframe tbody tr th:only-of-type {\n",
       "        vertical-align: middle;\n",
       "    }\n",
       "\n",
       "    .dataframe tbody tr th {\n",
       "        vertical-align: top;\n",
       "    }\n",
       "\n",
       "    .dataframe thead th {\n",
       "        text-align: right;\n",
       "    }\n",
       "</style>\n",
       "<table border=\"1\" class=\"dataframe\">\n",
       "  <thead>\n",
       "    <tr style=\"text-align: right;\">\n",
       "      <th></th>\n",
       "      <th>type</th>\n",
       "      <th>duration</th>\n",
       "      <th>durationUnit</th>\n",
       "      <th>totalDistance</th>\n",
       "      <th>totalDistanceUnit</th>\n",
       "      <th>totalEnergyBurned</th>\n",
       "      <th>totalEnergyBurnedUnit</th>\n",
       "      <th>sourceName</th>\n",
       "      <th>sourceVersion</th>\n",
       "      <th>device</th>\n",
       "      <th>creationDate</th>\n",
       "      <th>startDate</th>\n",
       "      <th>endDate</th>\n",
       "    </tr>\n",
       "  </thead>\n",
       "  <tbody>\n",
       "    <tr>\n",
       "      <th>256</th>\n",
       "      <td>Swimming</td>\n",
       "      <td>28.809333</td>\n",
       "      <td>min</td>\n",
       "      <td>0.493951</td>\n",
       "      <td>mi</td>\n",
       "      <td>121.381971</td>\n",
       "      <td>Cal</td>\n",
       "      <td>Apple Watch</td>\n",
       "      <td>8.6</td>\n",
       "      <td>&lt;&lt;HKDevice: 0x28026ed00&gt;, name:Apple Watch, ma...</td>\n",
       "      <td>2022-07-01 13:59:42-07:00</td>\n",
       "      <td>2022-07-01 13:24:23-07:00</td>\n",
       "      <td>2022-07-01 13:59:36-07:00</td>\n",
       "    </tr>\n",
       "  </tbody>\n",
       "</table>\n",
       "</div>"
      ],
      "text/plain": [
       "         type   duration durationUnit  totalDistance totalDistanceUnit  \\\n",
       "256  Swimming  28.809333          min       0.493951                mi   \n",
       "\n",
       "     totalEnergyBurned totalEnergyBurnedUnit   sourceName sourceVersion  \\\n",
       "256         121.381971                   Cal  Apple Watch           8.6   \n",
       "\n",
       "                                                device  \\\n",
       "256  <<HKDevice: 0x28026ed00>, name:Apple Watch, ma...   \n",
       "\n",
       "                 creationDate                 startDate  \\\n",
       "256 2022-07-01 13:59:42-07:00 2022-07-01 13:24:23-07:00   \n",
       "\n",
       "                      endDate  \n",
       "256 2022-07-01 13:59:36-07:00  "
      ]
     },
     "execution_count": 5,
     "metadata": {},
     "output_type": "execute_result"
    }
   ],
   "source": [
    "workouts[workouts['type'] == 'Swimming']"
   ]
  },
  {
   "cell_type": "code",
   "execution_count": null,
   "id": "496defbf",
   "metadata": {},
   "outputs": [],
   "source": [
    "start = dt.date(2020,1,1)\n",
    "end = dt.date.today()\n",
    "mods.tools.get_heartrate_for(workouts, start, end)"
   ]
  }
 ],
 "metadata": {
  "kernelspec": {
   "display_name": "MachineLearning",
   "language": "python",
   "name": "ml"
  },
  "language_info": {
   "codemirror_mode": {
    "name": "ipython",
    "version": 3
   },
   "file_extension": ".py",
   "mimetype": "text/x-python",
   "name": "python",
   "nbconvert_exporter": "python",
   "pygments_lexer": "ipython3",
   "version": "3.10.4"
  }
 },
 "nbformat": 4,
 "nbformat_minor": 5
}
