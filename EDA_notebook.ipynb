{
 "cells": [
  {
   "cell_type": "code",
   "execution_count": 1,
   "id": "e0354890",
   "metadata": {},
   "outputs": [],
   "source": [
    "import xml.etree.ElementTree as ET\n",
    "import pandas as pd\n",
    "import datetime as dt\n",
    "import matplotlib.pyplot as plt\n",
    "import gpxpy.gpx\n",
    "import seaborn as sns\n",
    "sns.set(rc={'figure.figsize':(11.7,8.27)})\n",
    "plt.style.use(\"fivethirtyeight\")\n",
    "import setup\n",
    "import data_tools as tls"
   ]
  },
  {
   "cell_type": "code",
   "execution_count": 2,
   "id": "8c3ee4fa",
   "metadata": {},
   "outputs": [],
   "source": [
    "tree = ET.parse(\"data/apple_health_export/export.xml\")\n",
    "root = tree.getroot()"
   ]
  },
  {
   "cell_type": "code",
   "execution_count": 4,
   "id": "56ab1356",
   "metadata": {},
   "outputs": [
    {
     "data": {
      "text/plain": [
       "array(['TraditionalStrengthTraining', 'Cycling', 'Running',\n",
       "       'CoreTraining', 'Walking', 'Tennis', 'Swimming'], dtype=object)"
      ]
     },
     "execution_count": 4,
     "metadata": {},
     "output_type": "execute_result"
    }
   ],
   "source": [
    "wk = setup.create_df(\"Workout\")\n",
    "wk = setup.clean_workout_df(wk)\n",
    "wk.type.unique()"
   ]
  },
  {
   "cell_type": "code",
   "execution_count": 5,
   "id": "31b1cd58",
   "metadata": {},
   "outputs": [],
   "source": [
    "rec = setup.create_df(\"Record\")\n",
    "rec = setup.clean_record_df(rec)"
   ]
  },
  {
   "cell_type": "code",
   "execution_count": 6,
   "id": "15c4a103",
   "metadata": {},
   "outputs": [
    {
     "data": {
      "text/plain": [
       "array(['Height', 'BodyMass', 'HeartRate', 'RespiratoryRate', 'StepCount',\n",
       "       'DistanceWalkingRunning', 'BasalEnergyBurned',\n",
       "       'ActiveEnergyBurned', 'FlightsClimbed', 'AppleExerciseTime',\n",
       "       'DistanceSwimming', 'SwimmingStrokeCount', 'RestingHeartRate',\n",
       "       'VO2Max', 'WalkingHeartRateAverage', 'HeadphoneAudioExposure',\n",
       "       'WalkingDoubleSupportPercentage', 'SixMinuteWalkTestDistance',\n",
       "       'AppleStandTime', 'WalkingSpeed', 'WalkingStepLength',\n",
       "       'WalkingAsymmetryPercentage', 'SleepDurationGoal',\n",
       "       'AppleWalkingSteadiness', 'SleepAnalysis', 'AppleStandHour',\n",
       "       'MindfulSession', 'HeartRateVariabilitySDNN'], dtype=object)"
      ]
     },
     "execution_count": 6,
     "metadata": {},
     "output_type": "execute_result"
    }
   ],
   "source": [
    "rec.type.unique()"
   ]
  },
  {
   "cell_type": "code",
   "execution_count": 30,
   "id": "bb38e53e",
   "metadata": {},
   "outputs": [
    {
     "name": "stdout",
     "output_type": "stream",
     "text": [
      "Running 128.0 195.0 180.45238095238096\n"
     ]
    }
   ],
   "source": [
    "hr = setup.filter_type(rec, 'HeartRate')\n",
    "running = setup.filter_type(wk, 'Running')\n",
    "hrs = tls.get_heartrate_for_workout(hr, running.loc[[179]])\n",
    "minh = hrs['value'].min()\n",
    "maxh = hrs['value'].max()\n",
    "meanh = hrs['value'].mean()\n",
    "print(running.loc[[179]].type.item(), minh, maxh, meanh)"
   ]
  },
  {
   "cell_type": "markdown",
   "id": "e836a627",
   "metadata": {},
   "source": [
    "## Records"
   ]
  },
  {
   "cell_type": "code",
   "execution_count": 8,
   "id": "a51c2cbc",
   "metadata": {},
   "outputs": [],
   "source": [
    "record_list = [x.attrib for x in root.iter('Record')]\n",
    "record_df = pd.DataFrame(record_list)"
   ]
  },
  {
   "cell_type": "code",
   "execution_count": 9,
   "id": "ddc228a7",
   "metadata": {},
   "outputs": [],
   "source": [
    "# to datetime\n",
    "for col in ['creationDate', 'startDate', 'endDate']:\n",
    "    record_df[col] = pd.to_datetime(record_df[col])\n",
    "    \n",
    "# value to numeric or nan\n",
    "record_df['value'] = pd.to_numeric(record_df['value'], errors='coerce')\n",
    "record_df['value'] = record_df['value'].fillna(1.0)\n",
    "\n",
    "# shorter abbreviations\n",
    "record_df['type'] = record_df['type'].str.replace('HKQuantityTypeIdentifier', '')\n",
    "record_df['type'] = record_df['type'].str.replace('HKCategoryTypeIdentifier', '')\n",
    "record_df['type'] = record_df['type'].str.replace('HKDataType', '')"
   ]
  },
  {
   "cell_type": "code",
   "execution_count": 10,
   "id": "392cef78",
   "metadata": {},
   "outputs": [],
   "source": [
    "record_df.loc[record_df['sourceName'] == 'Marlon’s Apple\\xa0Watch', 'sourceName'] = \"Apple Watch\"\n",
    "record_watch_df = record_df.loc[record_df['sourceName'] == 'Apple Watch']"
   ]
  },
  {
   "cell_type": "code",
   "execution_count": 11,
   "id": "0852a47e",
   "metadata": {},
   "outputs": [
    {
     "data": {
      "text/plain": [
       "array(['Height', 'BodyMass', 'HeartRate', 'RespiratoryRate', 'StepCount',\n",
       "       'DistanceWalkingRunning', 'BasalEnergyBurned',\n",
       "       'ActiveEnergyBurned', 'FlightsClimbed', 'AppleExerciseTime',\n",
       "       'DistanceSwimming', 'SwimmingStrokeCount', 'RestingHeartRate',\n",
       "       'VO2Max', 'WalkingHeartRateAverage', 'HeadphoneAudioExposure',\n",
       "       'WalkingDoubleSupportPercentage', 'SixMinuteWalkTestDistance',\n",
       "       'AppleStandTime', 'WalkingSpeed', 'WalkingStepLength',\n",
       "       'WalkingAsymmetryPercentage', 'SleepDurationGoal',\n",
       "       'AppleWalkingSteadiness', 'SleepAnalysis', 'AppleStandHour',\n",
       "       'MindfulSession', 'HeartRateVariabilitySDNN'], dtype=object)"
      ]
     },
     "execution_count": 11,
     "metadata": {},
     "output_type": "execute_result"
    }
   ],
   "source": [
    "record_df.type.unique()"
   ]
  },
  {
   "cell_type": "markdown",
   "id": "3ac5420b",
   "metadata": {},
   "source": [
    "## Workouts"
   ]
  },
  {
   "cell_type": "code",
   "execution_count": 12,
   "id": "6ec75a44",
   "metadata": {},
   "outputs": [],
   "source": [
    "workout_list = [x.attrib for x in root.iter('Workout')]\n",
    "workout_df = pd.DataFrame(workout_list)"
   ]
  },
  {
   "cell_type": "code",
   "execution_count": 13,
   "id": "dde3f339",
   "metadata": {},
   "outputs": [],
   "source": [
    "workout_df['workoutActivityType'] = workout_df['workoutActivityType'].str.replace('HKWorkoutActivityType', '')\n",
    "workout_df = workout_df.rename({\"workoutActivityType\": \"Type\"}, axis=1)\n",
    "\n",
    "# to datetime\n",
    "for col in ['creationDate', 'startDate', 'endDate']:\n",
    "    workout_df[col] = pd.to_datetime(workout_df[col])\n",
    "\n",
    "# string to numeric\n",
    "workout_df['duration'] = pd.to_numeric(workout_df['duration'])\n",
    "workout_df['totalEnergyBurned'] = pd.to_numeric(workout_df['totalEnergyBurned'])\n",
    "workout_df['totalDistance'] = pd.to_numeric(workout_df['totalDistance'])"
   ]
  },
  {
   "cell_type": "code",
   "execution_count": 14,
   "id": "e96b90a8",
   "metadata": {},
   "outputs": [],
   "source": [
    "workout_df.loc[workout_df['sourceName'] == 'Marlon’s Apple\\xa0Watch', 'sourceName'] = \"Apple Watch\"\n",
    "##workout_watch_df = workout_df.loc[workout_df['sourceName'] == 'Apple Watch']"
   ]
  },
  {
   "cell_type": "code",
   "execution_count": 15,
   "id": "40530a76",
   "metadata": {},
   "outputs": [
    {
     "data": {
      "text/plain": [
       "array(['TraditionalStrengthTraining', 'Cycling', 'Running',\n",
       "       'CoreTraining', 'Walking', 'Tennis', 'Swimming'], dtype=object)"
      ]
     },
     "execution_count": 15,
     "metadata": {},
     "output_type": "execute_result"
    }
   ],
   "source": [
    "num_workouts = workout_df.shape[0]\n",
    "workout_df.Type.unique()"
   ]
  },
  {
   "cell_type": "code",
   "execution_count": 16,
   "id": "d1a3a477",
   "metadata": {},
   "outputs": [],
   "source": [
    "def get_workouts(df, workout_type):\n",
    "    return df[df['Type'] == workout_type]\n",
    "\n",
    "running_df = get_workouts(workout_df, \"Running\")"
   ]
  },
  {
   "cell_type": "code",
   "execution_count": 17,
   "id": "a5af67a3",
   "metadata": {},
   "outputs": [],
   "source": [
    "def get_workouts_from_to(df, start, end):\n",
    "    start = pd.to_datetime(start, utc=True)\n",
    "    end = pd.to_datetime(end, utc=True)\n",
    "    workouts = df[df['creationDate'] >= start]\n",
    "    workouts = workouts[workouts['creationDate'] <= end]\n",
    "    \n",
    "    return workouts\n",
    "\n",
    "lower_time = dt.date(2020, 1, 1)\n",
    "upper_time = dt.date.today()\n",
    "workouts = get_workouts_from_to(workout_df, lower_time, upper_time)"
   ]
  },
  {
   "cell_type": "code",
   "execution_count": 18,
   "id": "d852688a",
   "metadata": {},
   "outputs": [
    {
     "name": "stdout",
     "output_type": "stream",
     "text": [
      "Running 128.0 195.0 180.45238095238096\n"
     ]
    }
   ],
   "source": [
    "def get_heartrate_for_workout(heartrate, workout):\n",
    "    def get_heartrate_for_date(hr, start, end):\n",
    "        hr = hr[hr['startDate'] >= start]\n",
    "        hr = hr[hr['endDate'] <= end]\n",
    "        \n",
    "        return hr\n",
    "    \n",
    "    return get_heartrate_for_date(heartrate, workout['startDate'].item(), workout['endDate'].item())\n",
    "\n",
    "heartrate_df = record_df[record_df['type'] == 'HeartRate']\n",
    "\n",
    "running_workout = running_df.loc[[179]]\n",
    "heartrate_workout = get_heartrate_for_workout(heartrate_df, running_workout)\n",
    "minh = heartrate_workout['value'].min()\n",
    "maxh = heartrate_workout['value'].max()\n",
    "meanh = heartrate_workout['value'].mean()\n",
    "print(running_workout.Type.item(), minh, maxh, meanh)"
   ]
  },
  {
   "cell_type": "code",
   "execution_count": 19,
   "id": "dfb45eaf",
   "metadata": {},
   "outputs": [],
   "source": [
    "def remove_outliers(df,columns,n_std):\n",
    "    for col in columns:\n",
    "        #print('Working on column: {}'.format(col))\n",
    "        \n",
    "        mean = df[col].mean()\n",
    "        sd = df[col].std()\n",
    "        \n",
    "        df = df[(df[col] <= mean+(n_std*sd))]\n",
    "        \n",
    "    return df"
   ]
  },
  {
   "cell_type": "code",
   "execution_count": 20,
   "id": "cd9af807",
   "metadata": {},
   "outputs": [
    {
     "data": {
      "text/plain": [
       "<AxesSubplot:xlabel='duration', ylabel='totalEnergyBurned'>"
      ]
     },
     "execution_count": 20,
     "metadata": {},
     "output_type": "execute_result"
    },
    {
     "data": {
      "image/png": "[encoded data removed]",
      "text/plain": [
       "<Figure size 432x288 with 1 Axes>"
      ]
     },
     "metadata": {
      "needs_background": "light"
     },
     "output_type": "display_data"
    }
   ],
   "source": [
    "workout_df = remove_outliers(workout_df, ['duration', 'totalEnergyBurned'], 2)\n",
    "sns.scatterplot(data=workout_df, x='duration', y='totalEnergyBurned', hue='Type')"
   ]
  },
  {
   "cell_type": "code",
   "execution_count": 21,
   "id": "7786ad06",
   "metadata": {},
   "outputs": [
    {
     "data": {
      "text/plain": [
       "<AxesSubplot:xlabel='endDate'>"
      ]
     },
     "execution_count": 21,
     "metadata": {},
     "output_type": "execute_result"
    },
    {
     "data": {
      "image/png": "[encoded data removed]",
      "text/plain": [
       "<Figure size 864x432 with 1 Axes>"
      ]
     },
     "metadata": {
      "needs_background": "light"
     },
     "output_type": "display_data"
    }
   ],
   "source": [
    "heartrate_workout.plot(x='endDate', y='value', style='r|', markersize=7.5, figsize=(12,6))"
   ]
  },
  {
   "cell_type": "code",
   "execution_count": 22,
   "id": "95524cad",
   "metadata": {},
   "outputs": [
    {
     "data": {
      "text/html": [
       "<div>\n",
       "<style scoped>\n",
       "    .dataframe tbody tr th:only-of-type {\n",
       "        vertical-align: middle;\n",
       "    }\n",
       "\n",
       "    .dataframe tbody tr th {\n",
       "        vertical-align: top;\n",
       "    }\n",
       "\n",
       "    .dataframe thead th {\n",
       "        text-align: right;\n",
       "    }\n",
       "</style>\n",
       "<table border=\"1\" class=\"dataframe\">\n",
       "  <thead>\n",
       "    <tr style=\"text-align: right;\">\n",
       "      <th></th>\n",
       "      <th>Type</th>\n",
       "      <th>duration</th>\n",
       "      <th>durationUnit</th>\n",
       "      <th>totalDistance</th>\n",
       "      <th>totalDistanceUnit</th>\n",
       "      <th>totalEnergyBurned</th>\n",
       "      <th>totalEnergyBurnedUnit</th>\n",
       "      <th>sourceName</th>\n",
       "      <th>sourceVersion</th>\n",
       "      <th>device</th>\n",
       "      <th>creationDate</th>\n",
       "      <th>startDate</th>\n",
       "      <th>endDate</th>\n",
       "    </tr>\n",
       "  </thead>\n",
       "  <tbody>\n",
       "    <tr>\n",
       "      <th>1</th>\n",
       "      <td>TraditionalStrengthTraining</td>\n",
       "      <td>28.767217</td>\n",
       "      <td>min</td>\n",
       "      <td>0.0</td>\n",
       "      <td>mi</td>\n",
       "      <td>161.977679</td>\n",
       "      <td>Cal</td>\n",
       "      <td>Apple Watch</td>\n",
       "      <td>6.1.1</td>\n",
       "      <td>&lt;&lt;HKDevice: 0x280264870&gt;, name:Apple Watch, ma...</td>\n",
       "      <td>2020-01-19 11:18:01-07:00</td>\n",
       "      <td>2020-01-19 10:49:11-07:00</td>\n",
       "      <td>2020-01-19 11:17:58-07:00</td>\n",
       "    </tr>\n",
       "    <tr>\n",
       "      <th>2</th>\n",
       "      <td>TraditionalStrengthTraining</td>\n",
       "      <td>14.311157</td>\n",
       "      <td>min</td>\n",
       "      <td>0.0</td>\n",
       "      <td>mi</td>\n",
       "      <td>70.615763</td>\n",
       "      <td>Cal</td>\n",
       "      <td>Apple Watch</td>\n",
       "      <td>6.1.1</td>\n",
       "      <td>&lt;&lt;HKDevice: 0x280264870&gt;, name:Apple Watch, ma...</td>\n",
       "      <td>2020-01-19 11:32:19-07:00</td>\n",
       "      <td>2020-01-19 11:17:58-07:00</td>\n",
       "      <td>2020-01-19 11:32:17-07:00</td>\n",
       "    </tr>\n",
       "    <tr>\n",
       "      <th>3</th>\n",
       "      <td>TraditionalStrengthTraining</td>\n",
       "      <td>100.048343</td>\n",
       "      <td>min</td>\n",
       "      <td>0.0</td>\n",
       "      <td>mi</td>\n",
       "      <td>477.992920</td>\n",
       "      <td>Cal</td>\n",
       "      <td>Apple Watch</td>\n",
       "      <td>6.1.1</td>\n",
       "      <td>&lt;&lt;HKDevice: 0x280264870&gt;, name:Apple Watch, ma...</td>\n",
       "      <td>2020-01-24 23:19:22-07:00</td>\n",
       "      <td>2020-01-24 21:39:12-07:00</td>\n",
       "      <td>2020-01-24 23:19:15-07:00</td>\n",
       "    </tr>\n",
       "    <tr>\n",
       "      <th>4</th>\n",
       "      <td>TraditionalStrengthTraining</td>\n",
       "      <td>27.227527</td>\n",
       "      <td>min</td>\n",
       "      <td>0.0</td>\n",
       "      <td>mi</td>\n",
       "      <td>218.123682</td>\n",
       "      <td>Cal</td>\n",
       "      <td>Apple Watch</td>\n",
       "      <td>6.1.1</td>\n",
       "      <td>&lt;&lt;HKDevice: 0x280264870&gt;, name:Apple Watch, ma...</td>\n",
       "      <td>2020-01-29 11:29:51-07:00</td>\n",
       "      <td>2020-01-29 10:29:53-07:00</td>\n",
       "      <td>2020-01-29 11:29:48-07:00</td>\n",
       "    </tr>\n",
       "    <tr>\n",
       "      <th>5</th>\n",
       "      <td>Cycling</td>\n",
       "      <td>5.234233</td>\n",
       "      <td>min</td>\n",
       "      <td>0.0</td>\n",
       "      <td>mi</td>\n",
       "      <td>53.292402</td>\n",
       "      <td>Cal</td>\n",
       "      <td>Apple Watch</td>\n",
       "      <td>6.1.1</td>\n",
       "      <td>&lt;&lt;HKDevice: 0x280264870&gt;, name:Apple Watch, ma...</td>\n",
       "      <td>2020-02-04 12:16:43-07:00</td>\n",
       "      <td>2020-02-04 12:11:27-07:00</td>\n",
       "      <td>2020-02-04 12:16:41-07:00</td>\n",
       "    </tr>\n",
       "  </tbody>\n",
       "</table>\n",
       "</div>"
      ],
      "text/plain": [
       "                          Type    duration durationUnit  totalDistance  \\\n",
       "1  TraditionalStrengthTraining   28.767217          min            0.0   \n",
       "2  TraditionalStrengthTraining   14.311157          min            0.0   \n",
       "3  TraditionalStrengthTraining  100.048343          min            0.0   \n",
       "4  TraditionalStrengthTraining   27.227527          min            0.0   \n",
       "5                      Cycling    5.234233          min            0.0   \n",
       "\n",
       "  totalDistanceUnit  totalEnergyBurned totalEnergyBurnedUnit   sourceName  \\\n",
       "1                mi         161.977679                   Cal  Apple Watch   \n",
       "2                mi          70.615763                   Cal  Apple Watch   \n",
       "3                mi         477.992920                   Cal  Apple Watch   \n",
       "4                mi         218.123682                   Cal  Apple Watch   \n",
       "5                mi          53.292402                   Cal  Apple Watch   \n",
       "\n",
       "  sourceVersion                                             device  \\\n",
       "1         6.1.1  <<HKDevice: 0x280264870>, name:Apple Watch, ma...   \n",
       "2         6.1.1  <<HKDevice: 0x280264870>, name:Apple Watch, ma...   \n",
       "3         6.1.1  <<HKDevice: 0x280264870>, name:Apple Watch, ma...   \n",
       "4         6.1.1  <<HKDevice: 0x280264870>, name:Apple Watch, ma...   \n",
       "5         6.1.1  <<HKDevice: 0x280264870>, name:Apple Watch, ma...   \n",
       "\n",
       "               creationDate                 startDate  \\\n",
       "1 2020-01-19 11:18:01-07:00 2020-01-19 10:49:11-07:00   \n",
       "2 2020-01-19 11:32:19-07:00 2020-01-19 11:17:58-07:00   \n",
       "3 2020-01-24 23:19:22-07:00 2020-01-24 21:39:12-07:00   \n",
       "4 2020-01-29 11:29:51-07:00 2020-01-29 10:29:53-07:00   \n",
       "5 2020-02-04 12:16:43-07:00 2020-02-04 12:11:27-07:00   \n",
       "\n",
       "                    endDate  \n",
       "1 2020-01-19 11:17:58-07:00  \n",
       "2 2020-01-19 11:32:17-07:00  \n",
       "3 2020-01-24 23:19:15-07:00  \n",
       "4 2020-01-29 11:29:48-07:00  \n",
       "5 2020-02-04 12:16:41-07:00  "
      ]
     },
     "execution_count": 22,
     "metadata": {},
     "output_type": "execute_result"
    }
   ],
   "source": [
    "workout_df.head()"
   ]
  },
  {
   "cell_type": "markdown",
   "id": "aaec503c",
   "metadata": {},
   "source": [
    "## Workout Event"
   ]
  },
  {
   "cell_type": "code",
   "execution_count": 23,
   "id": "3ec72f35",
   "metadata": {},
   "outputs": [],
   "source": [
    "workoutEvent_list = [x.attrib for x in root.iter('WorkoutEvent')]\n",
    "workoutEvent_df = pd.DataFrame(workoutEvent_list)\n",
    "#workoutEvent_df"
   ]
  },
  {
   "cell_type": "markdown",
   "id": "98a977aa",
   "metadata": {},
   "source": [
    "## Running Routes"
   ]
  },
  {
   "cell_type": "code",
   "execution_count": 24,
   "id": "d9c63f6c",
   "metadata": {},
   "outputs": [],
   "source": [
    "path = 'data/apple_health_export/workout-routes/route_2022-08-03_12.27pm.gpx'\n",
    "with open(path, 'r') as gpx_file:\n",
    "    gpx = gpxpy.parse(gpx_file)\n",
    "    \n",
    "# Convert to a dataframe one point at a time.\n",
    "points = []\n",
    "for segment in gpx.tracks[0].segments:\n",
    "    for p in segment.points:\n",
    "        points.append({\n",
    "            'time': p.time,\n",
    "            'latitude': p.latitude,\n",
    "            'longitude': p.longitude,\n",
    "            'elevation': p.elevation,\n",
    "        })\n",
    "gps_df = pd.DataFrame.from_records(points)"
   ]
  },
  {
   "cell_type": "code",
   "execution_count": 25,
   "id": "7839a88a",
   "metadata": {},
   "outputs": [
    {
     "data": {
      "text/plain": [
       "[<matplotlib.lines.Line2D at 0x21b83351660>]"
      ]
     },
     "execution_count": 25,
     "metadata": {},
     "output_type": "execute_result"
    },
    {
     "data": {
      "image/png": "[encoded data removed]",
      "text/plain": [
       "<Figure size 432x288 with 1 Axes>"
      ]
     },
     "metadata": {
      "needs_background": "light"
     },
     "output_type": "display_data"
    }
   ],
   "source": [
    "lat = gps_df['latitude']\n",
    "long = gps_df['longitude']\n",
    "plt.plot(lat, long)"
   ]
  },
  {
   "cell_type": "code",
   "execution_count": 26,
   "id": "166c3915",
   "metadata": {},
   "outputs": [
    {
     "data": {
      "text/html": [
       "<div>\n",
       "<style scoped>\n",
       "    .dataframe tbody tr th:only-of-type {\n",
       "        vertical-align: middle;\n",
       "    }\n",
       "\n",
       "    .dataframe tbody tr th {\n",
       "        vertical-align: top;\n",
       "    }\n",
       "\n",
       "    .dataframe thead th {\n",
       "        text-align: right;\n",
       "    }\n",
       "</style>\n",
       "<table border=\"1\" class=\"dataframe\">\n",
       "  <thead>\n",
       "    <tr style=\"text-align: right;\">\n",
       "      <th></th>\n",
       "      <th>time</th>\n",
       "      <th>latitude</th>\n",
       "      <th>longitude</th>\n",
       "      <th>elevation</th>\n",
       "    </tr>\n",
       "  </thead>\n",
       "  <tbody>\n",
       "    <tr>\n",
       "      <th>0</th>\n",
       "      <td>2022-08-03 19:09:12+00:00</td>\n",
       "      <td>32.870837</td>\n",
       "      <td>-117.218226</td>\n",
       "      <td>105.110916</td>\n",
       "    </tr>\n",
       "    <tr>\n",
       "      <th>1</th>\n",
       "      <td>2022-08-03 19:09:12+00:00</td>\n",
       "      <td>32.870837</td>\n",
       "      <td>-117.218226</td>\n",
       "      <td>105.114151</td>\n",
       "    </tr>\n",
       "    <tr>\n",
       "      <th>2</th>\n",
       "      <td>2022-08-03 19:09:13+00:00</td>\n",
       "      <td>32.870810</td>\n",
       "      <td>-117.218226</td>\n",
       "      <td>105.311157</td>\n",
       "    </tr>\n",
       "    <tr>\n",
       "      <th>3</th>\n",
       "      <td>2022-08-03 19:09:14+00:00</td>\n",
       "      <td>32.870782</td>\n",
       "      <td>-117.218224</td>\n",
       "      <td>105.511307</td>\n",
       "    </tr>\n",
       "    <tr>\n",
       "      <th>4</th>\n",
       "      <td>2022-08-03 19:09:15+00:00</td>\n",
       "      <td>32.870755</td>\n",
       "      <td>-117.218221</td>\n",
       "      <td>105.691582</td>\n",
       "    </tr>\n",
       "  </tbody>\n",
       "</table>\n",
       "</div>"
      ],
      "text/plain": [
       "                       time   latitude   longitude   elevation\n",
       "0 2022-08-03 19:09:12+00:00  32.870837 -117.218226  105.110916\n",
       "1 2022-08-03 19:09:12+00:00  32.870837 -117.218226  105.114151\n",
       "2 2022-08-03 19:09:13+00:00  32.870810 -117.218226  105.311157\n",
       "3 2022-08-03 19:09:14+00:00  32.870782 -117.218224  105.511307\n",
       "4 2022-08-03 19:09:15+00:00  32.870755 -117.218221  105.691582"
      ]
     },
     "execution_count": 26,
     "metadata": {},
     "output_type": "execute_result"
    }
   ],
   "source": [
    "gps_df.head()"
   ]
  },
  {
   "cell_type": "code",
   "execution_count": null,
   "id": "75d6813c",
   "metadata": {},
   "outputs": [],
   "source": []
  },
  {
   "cell_type": "code",
   "execution_count": null,
   "id": "54c92a4f",
   "metadata": {},
   "outputs": [],
   "source": []
  }
 ],
 "metadata": {
  "kernelspec": {
   "display_name": "MachineLearning",
   "language": "python",
   "name": "ml"
  },
  "language_info": {
   "codemirror_mode": {
    "name": "ipython",
    "version": 3
   },
   "file_extension": ".py",
   "mimetype": "text/x-python",
   "name": "python",
   "nbconvert_exporter": "python",
   "pygments_lexer": "ipython3",
   "version": "3.10.4"
  }
 },
 "nbformat": 4,
 "nbformat_minor": 5
}
