{
 "cells": [
  {
   "cell_type": "code",
   "execution_count": 4,
   "id": "4e092967",
   "metadata": {},
   "outputs": [],
   "source": [
    "from mods import tools as tool\n",
    "from mods import load as load\n",
    "import datetime as dt\n",
    "import pandas as pd"
   ]
  },
  {
   "cell_type": "code",
   "execution_count": 5,
   "id": "ac8f4b27",
   "metadata": {},
   "outputs": [],
   "source": [
    "records = load.create_df('Record')\n",
    "workouts = load.create_df('Workout')\n",
    "\n",
    "records = load.clean_record_df(records)\n",
    "workouts = load.clean_workout_df(workouts)"
   ]
  },
  {
   "cell_type": "code",
   "execution_count": 14,
   "id": "b9125f20",
   "metadata": {},
   "outputs": [
    {
     "data": {
      "text/plain": [
       "array(['Height', 'BodyMass', 'HeartRate', 'RespiratoryRate', 'StepCount',\n",
       "       'DistanceWalkingRunning', 'BasalEnergyBurned',\n",
       "       'ActiveEnergyBurned', 'FlightsClimbed', 'AppleExerciseTime',\n",
       "       'DistanceSwimming', 'SwimmingStrokeCount', 'RestingHeartRate',\n",
       "       'VO2Max', 'WalkingHeartRateAverage', 'HeadphoneAudioExposure',\n",
       "       'WalkingDoubleSupportPercentage', 'SixMinuteWalkTestDistance',\n",
       "       'AppleStandTime', 'WalkingSpeed', 'WalkingStepLength',\n",
       "       'WalkingAsymmetryPercentage', 'SleepDurationGoal',\n",
       "       'AppleWalkingSteadiness', 'SleepAnalysis', 'AppleStandHour',\n",
       "       'MindfulSession', 'HeartRateVariabilitySDNN'], dtype=object)"
      ]
     },
     "execution_count": 14,
     "metadata": {},
     "output_type": "execute_result"
    }
   ],
   "source": [
    "records['type'].unique()"
   ]
  },
  {
   "cell_type": "code",
   "execution_count": 7,
   "id": "f75872fc",
   "metadata": {},
   "outputs": [],
   "source": [
    "start = dt.date(2022, 1, 1)\n",
    "end = dt.date.today()"
   ]
  },
  {
   "cell_type": "code",
   "execution_count": 11,
   "id": "4d9eab6d",
   "metadata": {},
   "outputs": [],
   "source": [
    "twenty_22_r = tool.get_range_from_to(records, start, end)\n",
    "twenty_22_w = tool.get_range_from_to(workouts, start, end)"
   ]
  },
  {
   "cell_type": "code",
   "execution_count": 61,
   "id": "5a76fd6a",
   "metadata": {},
   "outputs": [],
   "source": [
    "hr_1 = tool.get_on_month_of_year(twenty_22_r, 2022, 2)"
   ]
  },
  {
   "cell_type": "code",
   "execution_count": 62,
   "id": "e8559a8e",
   "metadata": {},
   "outputs": [],
   "source": [
    "hr_1 = tool.get_type(hr_1, hr_1['type'] == 'HeartRate')"
   ]
  },
  {
   "cell_type": "code",
   "execution_count": 63,
   "id": "ab0dcdea",
   "metadata": {},
   "outputs": [],
   "source": [
    "hr_1['creationDate'] = hr_1['creationDate'].apply(lambda t: t.date())"
   ]
  },
  {
   "cell_type": "code",
   "execution_count": 67,
   "id": "ea43e209",
   "metadata": {},
   "outputs": [
    {
     "data": {
      "text/plain": [
       "creationDate\n",
       "2022-02-01    169.000\n",
       "2022-02-02    170.000\n",
       "2022-02-03     91.000\n",
       "2022-02-04    170.000\n",
       "2022-02-05    120.000\n",
       "2022-02-06     92.000\n",
       "2022-02-07    172.000\n",
       "2022-02-08    172.000\n",
       "2022-02-09    123.000\n",
       "2022-02-10    136.000\n",
       "2022-02-11    165.023\n",
       "2022-02-12    176.000\n",
       "2022-02-13    161.121\n",
       "2022-02-14    161.000\n",
       "2022-02-15    157.000\n",
       "2022-02-16    112.000\n",
       "2022-02-17    172.000\n",
       "2022-02-18    184.000\n",
       "2022-02-19    121.000\n",
       "2022-02-20    142.000\n",
       "2022-02-21    156.000\n",
       "2022-02-22     82.000\n",
       "2022-02-23    170.000\n",
       "2022-02-24    108.000\n",
       "2022-02-25    127.000\n",
       "2022-02-26    162.000\n",
       "2022-02-27    167.000\n",
       "2022-02-28    120.000\n",
       "Name: value, dtype: float64"
      ]
     },
     "execution_count": 67,
     "metadata": {},
     "output_type": "execute_result"
    }
   ],
   "source": [
    "## use similar creationDate to sum on day\n",
    "hr_1.groupby(['creationDate'])['value'].max()"
   ]
  },
  {
   "cell_type": "code",
   "execution_count": null,
   "id": "3a447929",
   "metadata": {},
   "outputs": [],
   "source": []
  }
 ],
 "metadata": {
  "kernelspec": {
   "display_name": "MachineLearning",
   "language": "python",
   "name": "ml"
  },
  "language_info": {
   "codemirror_mode": {
    "name": "ipython",
    "version": 3
   },
   "file_extension": ".py",
   "mimetype": "text/x-python",
   "name": "python",
   "nbconvert_exporter": "python",
   "pygments_lexer": "ipython3",
   "version": "3.10.4"
  }
 },
 "nbformat": 4,
 "nbformat_minor": 5
}
